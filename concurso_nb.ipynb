{
 "cells": [
  {
   "cell_type": "code",
   "execution_count": 1,
   "metadata": {},
   "outputs": [],
   "source": [
    "import pandas as pd\n",
    "import tweepy\n",
    "import ssl\n",
    "ssl._create_default_https_context = ssl._create_unverified_context\n",
    "\n",
    "consumer_key = \"XXXXXXX\"\n",
    "consumer_secret = \"XXXXXXX\"\n",
    "access_token = \"XXXXXXX\"\n",
    "access_token_secret = \"XXXXXXX\"\n",
    "\n",
    "# Authentication with Twitter\n",
    "auth = tweepy.OAuthHandler(consumer_key, consumer_secret)\n",
    "auth.set_access_token(access_token, access_token_secret)\n",
    "api = tweepy.API(auth)"
   ]
  },
  {
   "cell_type": "code",
   "execution_count": 2,
   "metadata": {},
   "outputs": [],
   "source": [
    "def tiene_digitos(texto):\n",
    "    digitos = ['1','2','3','4','5','6','7','8','9','0']\n",
    "    r = False\n",
    "    for digito in digitos:\n",
    "        res = texto.find(digito)\n",
    "        if res>-1:\n",
    "            r = True\n",
    "\n",
    "    return r"
   ]
  },
  {
   "cell_type": "code",
   "execution_count": 3,
   "metadata": {},
   "outputs": [],
   "source": [
    "def limpiar_puntos(valor):\n",
    "    if len(valor.split('.')) > 2:\n",
    "        num = '.'.join(valor.split('.')[:2])\n",
    "        return num\n",
    "    else:\n",
    "        return valor"
   ]
  },
  {
   "cell_type": "code",
   "execution_count": 4,
   "metadata": {},
   "outputs": [],
   "source": [
    "def eliminar_alfas(palabra):\n",
    "    for letra in palabra:\n",
    "        if letra not in '0123456789.,':\n",
    "            palabra = palabra.replace(letra,'')\n",
    "\n",
    "    return palabra"
   ]
  },
  {
   "cell_type": "code",
   "execution_count": 5,
   "metadata": {},
   "outputs": [],
   "source": [
    "def barrer_tw(tweet_id):\n",
    "\n",
    "    replies=[]\n",
    "    for tweet in tweepy.Cursor(api.search,q='to:'+'JohnGalt_is_www', result_type='recent', timeout=999999).items(1000):\n",
    "        if hasattr(tweet, 'in_reply_to_status_id_str'):\n",
    "            if (tweet.in_reply_to_status_id_str==tweet_id):\n",
    "                replies.append(tweet)\n",
    "\n",
    "    tuits = []\n",
    "    for tweet in replies:\n",
    "        texto = tweet.text.replace('\\n', ' ')\n",
    "        texto = texto.replace('@JohnGalt_is_www @Jotatrader_ok ','')\n",
    "        palabras = texto.split()\n",
    "\n",
    "        valores = [palabra for palabra in texto.split() if tiene_digitos(palabra)]\n",
    "        valores = [ (v.replace('$', '').replace(',','.')) for v in valores]\n",
    "        valores_num = [ float(limpiar_puntos(eliminar_alfas(v))) for v in valores]\n",
    "        valores_num.sort()\n",
    "        if len(valores_num)==2:\n",
    "            if (valores_num[0]>50) & (valores_num[1]>50):\n",
    "                row = {'user': tweet.user.screen_name, 'GGAL': valores_num[0], 'YPFD':valores_num[1]}\n",
    "                tuits.append(row)\n",
    "                \n",
    "    df = pd.DataFrame(tuits)\n",
    "    return df"
   ]
  },
  {
   "cell_type": "code",
   "execution_count": 6,
   "metadata": {},
   "outputs": [],
   "source": [
    "df_1 = barrer_tw('1374051527682326535')\n",
    "df_2 = barrer_tw('1374051528928034822')"
   ]
  },
  {
   "cell_type": "code",
   "execution_count": 7,
   "metadata": {},
   "outputs": [
    {
     "data": {
      "text/html": [
       "<div>\n",
       "<style scoped>\n",
       "    .dataframe tbody tr th:only-of-type {\n",
       "        vertical-align: middle;\n",
       "    }\n",
       "\n",
       "    .dataframe tbody tr th {\n",
       "        vertical-align: top;\n",
       "    }\n",
       "\n",
       "    .dataframe thead th {\n",
       "        text-align: right;\n",
       "    }\n",
       "</style>\n",
       "<table border=\"1\" class=\"dataframe\">\n",
       "  <thead>\n",
       "    <tr style=\"text-align: right;\">\n",
       "      <th></th>\n",
       "      <th>GGAL</th>\n",
       "      <th>YPFD</th>\n",
       "    </tr>\n",
       "  </thead>\n",
       "  <tbody>\n",
       "    <tr>\n",
       "      <th>count</th>\n",
       "      <td>414.000000</td>\n",
       "      <td>414.000000</td>\n",
       "    </tr>\n",
       "    <tr>\n",
       "      <th>mean</th>\n",
       "      <td>118.257147</td>\n",
       "      <td>657.357249</td>\n",
       "    </tr>\n",
       "    <tr>\n",
       "      <th>std</th>\n",
       "      <td>4.889862</td>\n",
       "      <td>13.176282</td>\n",
       "    </tr>\n",
       "    <tr>\n",
       "      <th>min</th>\n",
       "      <td>105.000000</td>\n",
       "      <td>595.000000</td>\n",
       "    </tr>\n",
       "    <tr>\n",
       "      <th>25%</th>\n",
       "      <td>116.545000</td>\n",
       "      <td>649.600000</td>\n",
       "    </tr>\n",
       "    <tr>\n",
       "      <th>50%</th>\n",
       "      <td>118.105000</td>\n",
       "      <td>657.500000</td>\n",
       "    </tr>\n",
       "    <tr>\n",
       "      <th>75%</th>\n",
       "      <td>119.080000</td>\n",
       "      <td>665.500000</td>\n",
       "    </tr>\n",
       "    <tr>\n",
       "      <th>max</th>\n",
       "      <td>188.100000</td>\n",
       "      <td>700.420000</td>\n",
       "    </tr>\n",
       "  </tbody>\n",
       "</table>\n",
       "</div>"
      ],
      "text/plain": [
       "             GGAL        YPFD\n",
       "count  414.000000  414.000000\n",
       "mean   118.257147  657.357249\n",
       "std      4.889862   13.176282\n",
       "min    105.000000  595.000000\n",
       "25%    116.545000  649.600000\n",
       "50%    118.105000  657.500000\n",
       "75%    119.080000  665.500000\n",
       "max    188.100000  700.420000"
      ]
     },
     "execution_count": 7,
     "metadata": {},
     "output_type": "execute_result"
    }
   ],
   "source": [
    "df = pd.concat([df_1,df_2])\n",
    "df.describe()"
   ]
  },
  {
   "cell_type": "code",
   "execution_count": 8,
   "metadata": {},
   "outputs": [
    {
     "data": {
      "text/plain": [
       "array([[<AxesSubplot:title={'center':'GGAL'}>,\n",
       "        <AxesSubplot:title={'center':'YPFD'}>]], dtype=object)"
      ]
     },
     "execution_count": 8,
     "metadata": {},
     "output_type": "execute_result"
    },
    {
     "data": {
      "image/png": "[encoded data removed]",
      "text/plain": [
       "<Figure size 720x288 with 2 Axes>"
      ]
     },
     "metadata": {
      "needs_background": "light"
     },
     "output_type": "display_data"
    }
   ],
   "source": [
    "df.GGAL = df.GGAL.clip(90,130)\n",
    "df.hist(bins=100, figsize=(10,4))"
   ]
  },
  {
   "cell_type": "code",
   "execution_count": 10,
   "metadata": {},
   "outputs": [],
   "source": [
    "df.to_excel('concurso.xlsx')"
   ]
  },
  {
   "cell_type": "code",
   "execution_count": null,
   "metadata": {},
   "outputs": [],
   "source": []
  }
 ],
 "metadata": {
  "kernelspec": {
   "display_name": "Python 3",
   "language": "python",
   "name": "python3"
  },
  "language_info": {
   "codemirror_mode": {
    "name": "ipython",
    "version": 3
   },
   "file_extension": ".py",
   "mimetype": "text/x-python",
   "name": "python",
   "nbconvert_exporter": "python",
   "pygments_lexer": "ipython3",
   "version": "3.8.5"
  },
  "toc": {
   "base_numbering": 1,
   "nav_menu": {},
   "number_sections": true,
   "sideBar": true,
   "skip_h1_title": false,
   "title_cell": "Table of Contents",
   "title_sidebar": "Contents",
   "toc_cell": false,
   "toc_position": {},
   "toc_section_display": true,
   "toc_window_display": false
  }
 },
 "nbformat": 4,
 "nbformat_minor": 4
}
